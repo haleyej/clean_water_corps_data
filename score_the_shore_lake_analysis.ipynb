{
 "cells": [
  {
   "cell_type": "code",
   "execution_count": 2,
   "id": "bb231364",
   "metadata": {},
   "outputs": [],
   "source": [
    "import pandas as pd\n",
    "import urllib.request"
   ]
  },
  {
   "cell_type": "code",
   "execution_count": 7,
   "id": "67a5da5e",
   "metadata": {},
   "outputs": [
    {
     "data": {
      "text/plain": [
       "('score_the_shore_lake.xlsx', <http.client.HTTPMessage at 0x10658c70>)"
      ]
     },
     "execution_count": 7,
     "metadata": {},
     "output_type": "execute_result"
    }
   ],
   "source": [
    "file = 'score_the_shore_lake.xlsx'\n",
    "\n",
    "url = f\"https://github.com/haleyej/clean_water_corps_data/raw/main/{file}\"\n",
    "urllib.request.urlretrieve(url, file)"
   ]
  },
  {
   "cell_type": "code",
   "execution_count": 8,
   "id": "3f58a5f9",
   "metadata": {},
   "outputs": [],
   "source": [
    "df = pd.read_excel(file)"
   ]
  },
  {
   "cell_type": "code",
   "execution_count": 9,
   "id": "77588e3c",
   "metadata": {},
   "outputs": [
    {
     "data": {
      "text/html": [
       "<div>\n",
       "<style scoped>\n",
       "    .dataframe tbody tr th:only-of-type {\n",
       "        vertical-align: middle;\n",
       "    }\n",
       "\n",
       "    .dataframe tbody tr th {\n",
       "        vertical-align: top;\n",
       "    }\n",
       "\n",
       "    .dataframe thead th {\n",
       "        text-align: right;\n",
       "    }\n",
       "</style>\n",
       "<table border=\"1\" class=\"dataframe\">\n",
       "  <thead>\n",
       "    <tr style=\"text-align: right;\">\n",
       "      <th></th>\n",
       "      <th>Lake Name</th>\n",
       "      <th>County</th>\n",
       "      <th>Township</th>\n",
       "      <th>Section</th>\n",
       "      <th>Site ID</th>\n",
       "      <th>STORETID</th>\n",
       "      <th>Latitude</th>\n",
       "      <th>Longitude</th>\n",
       "      <th>Watershed</th>\n",
       "      <th>Surface Area</th>\n",
       "      <th>...</th>\n",
       "      <th>Section 90 Score</th>\n",
       "      <th>Section 91 Score</th>\n",
       "      <th>Section 92 Score</th>\n",
       "      <th>Section 93 Score</th>\n",
       "      <th>Section 94 Score</th>\n",
       "      <th>Section 95 Score</th>\n",
       "      <th>Section 96 Score</th>\n",
       "      <th>Section 97 Score</th>\n",
       "      <th>Section 98 Score</th>\n",
       "      <th>Section 99 Score</th>\n",
       "    </tr>\n",
       "  </thead>\n",
       "  <tbody>\n",
       "    <tr>\n",
       "      <th>0</th>\n",
       "      <td>Tie</td>\n",
       "      <td>Alger</td>\n",
       "      <td>NaN</td>\n",
       "      <td>NaN</td>\n",
       "      <td>NaN</td>\n",
       "      <td>20168</td>\n",
       "      <td>46.197417</td>\n",
       "      <td>-86.648117</td>\n",
       "      <td>4060106.0</td>\n",
       "      <td>NaN</td>\n",
       "      <td>...</td>\n",
       "      <td>NaN</td>\n",
       "      <td>NaN</td>\n",
       "      <td>NaN</td>\n",
       "      <td>NaN</td>\n",
       "      <td>NaN</td>\n",
       "      <td>NaN</td>\n",
       "      <td>NaN</td>\n",
       "      <td>NaN</td>\n",
       "      <td>NaN</td>\n",
       "      <td>NaN</td>\n",
       "    </tr>\n",
       "    <tr>\n",
       "      <th>1</th>\n",
       "      <td>Green Lake</td>\n",
       "      <td>Allegan</td>\n",
       "      <td>NaN</td>\n",
       "      <td>NaN</td>\n",
       "      <td>NaN</td>\n",
       "      <td>30225</td>\n",
       "      <td>42.750140</td>\n",
       "      <td>-85.597300</td>\n",
       "      <td>NaN</td>\n",
       "      <td>NaN</td>\n",
       "      <td>...</td>\n",
       "      <td>NaN</td>\n",
       "      <td>NaN</td>\n",
       "      <td>NaN</td>\n",
       "      <td>NaN</td>\n",
       "      <td>NaN</td>\n",
       "      <td>NaN</td>\n",
       "      <td>NaN</td>\n",
       "      <td>NaN</td>\n",
       "      <td>NaN</td>\n",
       "      <td>NaN</td>\n",
       "    </tr>\n",
       "    <tr>\n",
       "      <th>2</th>\n",
       "      <td>Green Lake</td>\n",
       "      <td>Allegan</td>\n",
       "      <td>NaN</td>\n",
       "      <td>NaN</td>\n",
       "      <td>NaN</td>\n",
       "      <td>30225</td>\n",
       "      <td>42.750140</td>\n",
       "      <td>-85.597300</td>\n",
       "      <td>NaN</td>\n",
       "      <td>NaN</td>\n",
       "      <td>...</td>\n",
       "      <td>NaN</td>\n",
       "      <td>NaN</td>\n",
       "      <td>NaN</td>\n",
       "      <td>NaN</td>\n",
       "      <td>NaN</td>\n",
       "      <td>NaN</td>\n",
       "      <td>NaN</td>\n",
       "      <td>NaN</td>\n",
       "      <td>NaN</td>\n",
       "      <td>NaN</td>\n",
       "    </tr>\n",
       "    <tr>\n",
       "      <th>3</th>\n",
       "      <td>Bristol</td>\n",
       "      <td>Barry</td>\n",
       "      <td>Johnstown</td>\n",
       "      <td>NaN</td>\n",
       "      <td>NaN</td>\n",
       "      <td>80092</td>\n",
       "      <td>42.484449</td>\n",
       "      <td>-85.248892</td>\n",
       "      <td>NaN</td>\n",
       "      <td>NaN</td>\n",
       "      <td>...</td>\n",
       "      <td>NaN</td>\n",
       "      <td>NaN</td>\n",
       "      <td>NaN</td>\n",
       "      <td>NaN</td>\n",
       "      <td>NaN</td>\n",
       "      <td>NaN</td>\n",
       "      <td>NaN</td>\n",
       "      <td>NaN</td>\n",
       "      <td>NaN</td>\n",
       "      <td>NaN</td>\n",
       "    </tr>\n",
       "    <tr>\n",
       "      <th>4</th>\n",
       "      <td>Jordan</td>\n",
       "      <td>Barry</td>\n",
       "      <td>Woodland</td>\n",
       "      <td>4.0</td>\n",
       "      <td>NaN</td>\n",
       "      <td>80066</td>\n",
       "      <td>42.768620</td>\n",
       "      <td>-85.142230</td>\n",
       "      <td>4050007.0</td>\n",
       "      <td>430.0</td>\n",
       "      <td>...</td>\n",
       "      <td>NaN</td>\n",
       "      <td>NaN</td>\n",
       "      <td>NaN</td>\n",
       "      <td>NaN</td>\n",
       "      <td>NaN</td>\n",
       "      <td>NaN</td>\n",
       "      <td>NaN</td>\n",
       "      <td>NaN</td>\n",
       "      <td>NaN</td>\n",
       "      <td>NaN</td>\n",
       "    </tr>\n",
       "  </tbody>\n",
       "</table>\n",
       "<p>5 rows × 122 columns</p>\n",
       "</div>"
      ],
      "text/plain": [
       "    Lake Name   County   Township  Section Site ID  STORETID   Latitude  \\\n",
       "0         Tie    Alger        NaN      NaN     NaN     20168  46.197417   \n",
       "1  Green Lake  Allegan        NaN      NaN     NaN     30225  42.750140   \n",
       "2  Green Lake  Allegan        NaN      NaN     NaN     30225  42.750140   \n",
       "3     Bristol    Barry  Johnstown      NaN     NaN     80092  42.484449   \n",
       "4      Jordan    Barry   Woodland      4.0     NaN     80066  42.768620   \n",
       "\n",
       "   Longitude  Watershed  Surface Area  ... Section 90 Score Section 91 Score  \\\n",
       "0 -86.648117  4060106.0           NaN  ...              NaN              NaN   \n",
       "1 -85.597300        NaN           NaN  ...              NaN              NaN   \n",
       "2 -85.597300        NaN           NaN  ...              NaN              NaN   \n",
       "3 -85.248892        NaN           NaN  ...              NaN              NaN   \n",
       "4 -85.142230  4050007.0         430.0  ...              NaN              NaN   \n",
       "\n",
       "   Section 92 Score Section 93 Score  Section 94 Score  Section 95 Score  \\\n",
       "0               NaN              NaN               NaN               NaN   \n",
       "1               NaN              NaN               NaN               NaN   \n",
       "2               NaN              NaN               NaN               NaN   \n",
       "3               NaN              NaN               NaN               NaN   \n",
       "4               NaN              NaN               NaN               NaN   \n",
       "\n",
       "   Section 96 Score Section 97 Score Section 98 Score  Section 99 Score  \n",
       "0               NaN              NaN              NaN               NaN  \n",
       "1               NaN              NaN              NaN               NaN  \n",
       "2               NaN              NaN              NaN               NaN  \n",
       "3               NaN              NaN              NaN               NaN  \n",
       "4               NaN              NaN              NaN               NaN  \n",
       "\n",
       "[5 rows x 122 columns]"
      ]
     },
     "execution_count": 9,
     "metadata": {},
     "output_type": "execute_result"
    }
   ],
   "source": [
    "df.head()"
   ]
  },
  {
   "cell_type": "code",
   "execution_count": 11,
   "id": "21a9bfc4",
   "metadata": {},
   "outputs": [
    {
     "data": {
      "text/plain": [
       "<bound method NDFrame.describe of                      Lake Name                 County               Township  \\\n",
       "0                          Tie                  Alger                    NaN   \n",
       "1                   Green Lake                Allegan                    NaN   \n",
       "2                   Green Lake                Allegan                    NaN   \n",
       "3                      Bristol                  Barry              Johnstown   \n",
       "4                       Jordan                  Barry               Woodland   \n",
       "..                         ...                    ...                    ...   \n",
       "88                      Perrin             St. Joseph                Sherman   \n",
       "89                      Gravel              Van Buren                 Porter   \n",
       "90  Pleasant (Northwest Basin)              Washtenaw                Freedom   \n",
       "91         Silver (Dexter Twp)              Washtenaw                    NaN   \n",
       "92                    Whitmore  Washtenaw, Livingston  Northfield, Green Oak   \n",
       "\n",
       "    Section Site ID  STORETID      Latitude     Longitude  Watershed  \\\n",
       "0       NaN     NaN     20168  4.619742e+01 -8.664812e+01  4060106.0   \n",
       "1       NaN     NaN     30225  4.275014e+01 -8.559730e+01        NaN   \n",
       "2       NaN     NaN     30225  4.275014e+01 -8.559730e+01        NaN   \n",
       "3       NaN     NaN     80092  4.248445e+01 -8.524889e+01        NaN   \n",
       "4       4.0     NaN     80066  4.276862e+01 -8.514223e+01  4050007.0   \n",
       "..      ...     ...       ...           ...           ...        ...   \n",
       "88     11.0     NaN    750314  4.186974e+01 -8.543383e+01  4050001.0   \n",
       "89      NaN       1    800271  4.207667e+01 -8.586722e+01  4050001.0   \n",
       "90     22.0       1    810266  4.220639e+01 -8.396167e+01  4090005.0   \n",
       "91      NaN     NaN    810669  4.241949e+06 -8.395611e+06        NaN   \n",
       "92      NaN     NaN    470104  4.243584e+01 -8.374695e+01  4090005.0   \n",
       "\n",
       "    Surface Area  ... Section 90 Score Section 91 Score  Section 92 Score  \\\n",
       "0            NaN  ...              NaN              NaN               NaN   \n",
       "1            NaN  ...              NaN              NaN               NaN   \n",
       "2            NaN  ...              NaN              NaN               NaN   \n",
       "3            NaN  ...              NaN              NaN               NaN   \n",
       "4          430.0  ...              NaN              NaN               NaN   \n",
       "..           ...  ...              ...              ...               ...   \n",
       "88         109.0  ...              NaN              NaN               NaN   \n",
       "89         296.0  ...              NaN              NaN               NaN   \n",
       "90         202.0  ...              NaN              NaN               NaN   \n",
       "91           NaN  ...              NaN              NaN               NaN   \n",
       "92           NaN  ...              NaN              NaN               NaN   \n",
       "\n",
       "   Section 93 Score  Section 94 Score  Section 95 Score  Section 96 Score  \\\n",
       "0               NaN               NaN               NaN               NaN   \n",
       "1               NaN               NaN               NaN               NaN   \n",
       "2               NaN               NaN               NaN               NaN   \n",
       "3               NaN               NaN               NaN               NaN   \n",
       "4               NaN               NaN               NaN               NaN   \n",
       "..              ...               ...               ...               ...   \n",
       "88              NaN               NaN               NaN               NaN   \n",
       "89              NaN               NaN               NaN               NaN   \n",
       "90              NaN               NaN               NaN               NaN   \n",
       "91              NaN               NaN               NaN               NaN   \n",
       "92              NaN               NaN               NaN               NaN   \n",
       "\n",
       "   Section 97 Score Section 98 Score  Section 99 Score  \n",
       "0               NaN              NaN               NaN  \n",
       "1               NaN              NaN               NaN  \n",
       "2               NaN              NaN               NaN  \n",
       "3               NaN              NaN               NaN  \n",
       "4               NaN              NaN               NaN  \n",
       "..              ...              ...               ...  \n",
       "88              NaN              NaN               NaN  \n",
       "89              NaN              NaN               NaN  \n",
       "90              NaN              NaN               NaN  \n",
       "91              NaN              NaN               NaN  \n",
       "92              NaN              NaN               NaN  \n",
       "\n",
       "[93 rows x 122 columns]>"
      ]
     },
     "execution_count": 11,
     "metadata": {},
     "output_type": "execute_result"
    }
   ],
   "source": [
    "df.describe"
   ]
  },
  {
   "cell_type": "code",
   "execution_count": 20,
   "id": "ca919945",
   "metadata": {},
   "outputs": [
    {
     "data": {
      "text/plain": [
       "array(['Tie', 'Green Lake', 'Bristol', 'Jordan', 'Long (Little)',\n",
       "       'Betsie', 'Herendeene', 'Herring (Lower)', 'Herring (Upper)',\n",
       "       'Long', 'Otter', 'Pearl', 'Platte', 'Platte (Little)',\n",
       "       'Round Lake', 'Turtle', 'Birch (Fallon)', 'Eagle', 'Kelsey (Big)',\n",
       "       'Kelsey (Little)', 'Barneys Lake', 'Nowland', 'Antoine', 'Bass',\n",
       "       'Carney', 'Hamilton', 'Hanbury', 'Louise', 'Mary', 'Moon',\n",
       "       'Norway', 'Sawyer', 'Flint Park Lake', 'Thread', 'Grass Lake',\n",
       "       'Lancelot (1)', 'Lancer', 'Spider', 'Ellen', 'First Fortune',\n",
       "       'Second Fortune', 'Stanley', 'West Maggie', 'Gull', 'Elbow',\n",
       "       'List', 'Oneida', 'Arcadia', 'Dorner', 'Lake of the Woods',\n",
       "       'Timmerman', 'Anderson Lake', 'Independence', 'Gunn',\n",
       "       'Hermansville', 'Resort', 'Avery', 'Avery Lake', 'Duck', 'Fox',\n",
       "       'Owasippe', 'Brush', 'Diamond', 'Fremont', 'Highbank', 'Angelus',\n",
       "       'Deer', 'Dollar', 'Long (Upper)', 'Rainbow', 'Stony', 'Tahoe',\n",
       "       'Au Sable', 'Crockery', 'James', 'Fishers', 'Klinger', 'Perrin',\n",
       "       'Gravel', 'Pleasant (Northwest Basin)', 'Silver (Dexter Twp)',\n",
       "       'Whitmore'], dtype=object)"
      ]
     },
     "execution_count": 20,
     "metadata": {},
     "output_type": "execute_result"
    }
   ],
   "source": [
    "df['Lake Name'].unique()"
   ]
  },
  {
   "cell_type": "code",
   "execution_count": 21,
   "id": "801926ba",
   "metadata": {},
   "outputs": [
    {
     "data": {
      "text/plain": [
       "array(['Alger', 'Allegan', 'Barry', 'Benzie', 'Cass', 'Charlevoix',\n",
       "       'Dickinson', 'Genesee', 'Gladwin', 'Grand Traverse', 'Iron',\n",
       "       'Kalamazoo', 'Lake', 'Livingston', 'Manistee', 'Marquette',\n",
       "       'Mason', 'Menominee', 'Montmorency', 'Muskegon', 'Newaygo',\n",
       "       'Oakland', 'Oceana', 'Ogemaw', 'Osceola', 'Ottawa', 'Roscommon',\n",
       "       'St. Joseph', 'Van Buren', 'Washtenaw', 'Washtenaw, Livingston'],\n",
       "      dtype=object)"
      ]
     },
     "execution_count": 21,
     "metadata": {},
     "output_type": "execute_result"
    }
   ],
   "source": [
    "df['County'].unique()"
   ]
  },
  {
   "cell_type": "code",
   "execution_count": 22,
   "id": "f443d308",
   "metadata": {},
   "outputs": [
    {
     "data": {
      "text/plain": [
       "array([nan, 'Johnstown', 'Woodland', 'Crystal Lake and Gilmore', 'Almira',\n",
       "       'Blaine', 'Lake', 'Lake, Benzonia', 'Inland', 'Porter', 'Ontwa',\n",
       "       'Breitung', 'Waucedah', 'Butman', 'East Bay', 'Mansfield', 'Elk',\n",
       "       'Hamburg', 'Norman', 'Freesoil', 'Albert', 'Dalton', 'Wilcox',\n",
       "       'Lincoln', 'Sheridan', 'Liley', 'Independence', 'Bloomfield',\n",
       "       'Claybanks', 'Chester', 'Park, Lockport', 'White Pigeon',\n",
       "       'Sherman', 'Freedom', 'Northfield, Green Oak'], dtype=object)"
      ]
     },
     "execution_count": 22,
     "metadata": {},
     "output_type": "execute_result"
    }
   ],
   "source": [
    "df['Township'].unique()"
   ]
  },
  {
   "cell_type": "code",
   "execution_count": 17,
   "id": "303d5d5c",
   "metadata": {},
   "outputs": [],
   "source": [
    "import matplotlib.pyplot as plt"
   ]
  },
  {
   "cell_type": "code",
   "execution_count": 18,
   "id": "4b79211d",
   "metadata": {},
   "outputs": [
    {
     "data": {
      "text/plain": [
       "<matplotlib.collections.PathCollection at 0x109e43a0>"
      ]
     },
     "execution_count": 18,
     "metadata": {},
     "output_type": "execute_result"
    },
    {
     "data": {
      "image/png": "[encoded data removed]",
      "text/plain": [
       "<Figure size 432x288 with 1 Axes>"
      ]
     },
     "metadata": {
      "needs_background": "light"
     },
     "output_type": "display_data"
    }
   ],
   "source": [
    "plt.scatter('Latitude', 'Surface Area')"
   ]
  },
  {
   "cell_type": "markdown",
   "id": "b228effa",
   "metadata": {},
   "source": [
    "Pictured: The most informative scatter plot I've ever seen.\n",
    "\n",
    "In all seriousness, the amount of data currently collected for score_the_shore_lake.xlsx is insufficient, meaning it is incredibly difficult to make any comprehensive conclusions on trends involving variables such as a lake's surface area, latitude, and longitude."
   ]
  },
  {
   "cell_type": "code",
   "execution_count": 26,
   "id": "ecb795d9",
   "metadata": {},
   "outputs": [],
   "source": [
    "df_no_na = df.dropna()"
   ]
  },
  {
   "cell_type": "code",
   "execution_count": 27,
   "id": "5d60c479",
   "metadata": {},
   "outputs": [
    {
     "data": {
      "text/html": [
       "<div>\n",
       "<style scoped>\n",
       "    .dataframe tbody tr th:only-of-type {\n",
       "        vertical-align: middle;\n",
       "    }\n",
       "\n",
       "    .dataframe tbody tr th {\n",
       "        vertical-align: top;\n",
       "    }\n",
       "\n",
       "    .dataframe thead th {\n",
       "        text-align: right;\n",
       "    }\n",
       "</style>\n",
       "<table border=\"1\" class=\"dataframe\">\n",
       "  <thead>\n",
       "    <tr style=\"text-align: right;\">\n",
       "      <th></th>\n",
       "      <th>Lake Name</th>\n",
       "      <th>County</th>\n",
       "      <th>Township</th>\n",
       "      <th>Section</th>\n",
       "      <th>Site ID</th>\n",
       "      <th>STORETID</th>\n",
       "      <th>Latitude</th>\n",
       "      <th>Longitude</th>\n",
       "      <th>Watershed</th>\n",
       "      <th>Surface Area</th>\n",
       "      <th>...</th>\n",
       "      <th>Section 90 Score</th>\n",
       "      <th>Section 91 Score</th>\n",
       "      <th>Section 92 Score</th>\n",
       "      <th>Section 93 Score</th>\n",
       "      <th>Section 94 Score</th>\n",
       "      <th>Section 95 Score</th>\n",
       "      <th>Section 96 Score</th>\n",
       "      <th>Section 97 Score</th>\n",
       "      <th>Section 98 Score</th>\n",
       "      <th>Section 99 Score</th>\n",
       "    </tr>\n",
       "  </thead>\n",
       "  <tbody>\n",
       "  </tbody>\n",
       "</table>\n",
       "<p>0 rows × 122 columns</p>\n",
       "</div>"
      ],
      "text/plain": [
       "Empty DataFrame\n",
       "Columns: [Lake Name, County, Township, Section, Site ID, STORETID, Latitude, Longitude, Watershed, Surface Area, Datum, GPS Source, Collecting Organization, Date Sampled, # Sections, # Buildings, Shore Score, Lake Level, Legal Lake Level, Gage Reading, Impact Description, Comments, Tier, Section 1 Score, Section 2 Score, Section 3 Score, Section 4 Score, Section 5 Score, Section 6 Score, Section 7 Score, Section 8 Score, Section 9 Score, Section 10 Score, Section 11 Score, Section 12 Score, Section 13 Score, Section 14 Score, Section 15 Score, Section 16 Score, Section 17 Score, Section 18 Score, Section 19 Score, Section 20 Score, Section 21 Score, Section 22 Score, Section 23 Score, Section 24 Score, Section 25 Score, Section 26 Score, Section 27 Score, Section 28 Score, Section 29 Score, Section 30 Score, Section 31 Score, Section 32 Score, Section 33 Score, Section 34 Score, Section 35 Score, Section 36 Score, Section 37 Score, Section 38 Score, Section 39 Score, Section 40 Score, Section 41 Score, Section 42 Score, Section 43 Score, Section 44 Score, Section 45 Score, Section 46 Score, Section 47 Score, Section 48 Score, Section 49 Score, Section 50 Score, Section 51 Score, Section 52 Score, Section 53 Score, Section 54 Score, Section 55 Score, Section 56 Score, Section 57 Score, Section 58 Score, Section 59 Score, Section 60 Score, Section 61 Score, Section 62 Score, Section 63 Score, Section 64 Score, Section 65 Score, Section 66 Score, Section 67 Score, Section 68 Score, Section 69 Score, Section 70 Score, Section 71 Score, Section 72 Score, Section 73 Score, Section 74 Score, Section 75 Score, Section 76 Score, Section 77 Score, ...]\n",
       "Index: []\n",
       "\n",
       "[0 rows x 122 columns]"
      ]
     },
     "execution_count": 27,
     "metadata": {},
     "output_type": "execute_result"
    }
   ],
   "source": [
    "df_no_na"
   ]
  },
  {
   "cell_type": "markdown",
   "id": "435a8838",
   "metadata": {},
   "source": [
    "Every single row has at least one column with a missing value."
   ]
  }
 ],
 "metadata": {
  "kernelspec": {
   "display_name": "Python 3 (ipykernel)",
   "language": "python",
   "name": "python3"
  },
  "language_info": {
   "codemirror_mode": {
    "name": "ipython",
    "version": 3
   },
   "file_extension": ".py",
   "mimetype": "text/x-python",
   "name": "python",
   "nbconvert_exporter": "python",
   "pygments_lexer": "ipython3",
   "version": "3.9.12"
  }
 },
 "nbformat": 4,
 "nbformat_minor": 5
}
